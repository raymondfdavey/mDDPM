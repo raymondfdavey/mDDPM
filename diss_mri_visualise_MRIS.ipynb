{
 "cells": [
  {
   "cell_type": "code",
   "execution_count": null,
   "metadata": {},
   "outputs": [],
   "source": [
    "# Import all the necessary packages\n",
    "import numpy as np\n",
    "import nibabel as nib\n",
    "import itk\n",
    "import itkwidgets\n",
    "from ipywidgets import interact, interactive, IntSlider, ToggleButtons\n",
    "import matplotlib.pyplot as plt\n",
    "%matplotlib inline\n",
    "import seaborn as sns\n",
    "sns.set_style('darkgrid')\n",
    "import torch \n"
   ]
  },
  {
   "cell_type": "code",
   "execution_count": null,
   "metadata": {},
   "outputs": [],
   "source": [
    "def viz_single_slice(image_path, layer):\n",
    "    image_obj = nib.load(image_path)\n",
    "    # Extract data as numpy ndarray\n",
    "    image_data = image_obj.get_fdata()\n",
    "    print('image_data pixels data type: ',  image_data.dtype)\n",
    "    print('image_data type: ',  type(image_data))\n",
    "    print('image_obj type: ',  type(image_obj))\n",
    "    height, width, depth = image_data.shape\n",
    "    print(f\"({height}, {width}, {depth})\")\n",
    "    print(f\"Plotting Layer {layer} of Image\")\n",
    "    \n",
    "    plt.figure(figsize=(3, 3))\n",
    "    plt.imshow(image_data[:, :, layer], cmap='gray')\n",
    "    plt.title(f\"{image_path}\\nLayer: {layer}\")\n",
    "    plt.axis('off')\n",
    "    plt.show()"
   ]
  },
  {
   "cell_type": "code",
   "execution_count": null,
   "metadata": {},
   "outputs": [],
   "source": [
    "def explore_3dimage(image_data, layer, image_path):\n",
    "    plt.figure(figsize=(10, 5))\n",
    "    plt.imshow(image_data[:, :, layer], cmap='gray');\n",
    "    plt.title(f'{image_path[2:-7]}', fontsize=20)\n",
    "    plt.axis('off')\n",
    "    return layer\n",
    "\n",
    "def viz_interactive_3D_image(image_path):\n",
    "    image_obj = nib.load(image_path)\n",
    "    image_data = image_obj.get_fdata()\n",
    "    print('image_data pixels data type: ',  image_data.dtype)\n",
    "    print('image_data type: ',  type(image_data))\n",
    "    print('image_obj type: ',  type(image_obj))\n",
    "    height, width, depth = image_data.shape\n",
    "    print(f\"({height}, {width}, {depth})\")\n",
    "    interact(lambda layer: explore_3dimage(image_data, layer, image_path), layer=(0, image_data.shape[2] - 1))\n"
   ]
  },
  {
   "cell_type": "markdown",
   "metadata": {},
   "source": [
    "PROCESSED RESAMPLED"
   ]
  },
  {
   "cell_type": "code",
   "execution_count": null,
   "metadata": {},
   "outputs": [],
   "source": [
    "ixi_t2 = '../../../../../../Documents/MINI_DATA_FOR_PLAY/MINI_PROCESSED/v4correctedN4_non_iso_cut/IXI/t2/IXI1.nii.gz_t2.nii.gz'\n",
    "ixi_mask = '../../../../../../Documents/MINI_DATA_FOR_PLAY/MINI_PROCESSED/v4correctedN4_non_iso_cut/IXI/mask/IXI1.nii.gz_mask.nii.gz'\n",
    "\n",
    "viz_interactive_3D_image(ixi_t2)\n",
    "viz_interactive_3D_image(ixi_mask)\n",
    "ixi_t2 = '../../../../../../Documents/MINI_DATA_FOR_PLAY/MINI_PROCESSED/v4correctedN4_non_iso_cut/IXI/t2/IXI2.nii.gz_t2.nii.gz'\n",
    "ixi_mask = '../../../../../../Documents/MINI_DATA_FOR_PLAY/MINI_PROCESSED/v4correctedN4_non_iso_cut/IXI/mask/IXI2.nii.gz_mask.nii.gz'\n",
    "\n",
    "viz_interactive_3D_image(ixi_t2)\n",
    "viz_interactive_3D_image(ixi_mask)\n",
    "\n",
    "ixi_t2 = '../../../../../../Documents/MINI_DATA_FOR_PLAY/MINI_PROCESSED/v4correctedN4_non_iso_cut/IXI/t2/IXI3.nii.gz_t2.nii.gz'\n",
    "ixi_mask = '../../../../../../Documents/MINI_DATA_FOR_PLAY/MINI_PROCESSED/v4correctedN4_non_iso_cut/IXI/mask/IXI3.nii.gz_mask.nii.gz'\n",
    "\n",
    "viz_interactive_3D_image(ixi_t2)\n",
    "viz_interactive_3D_image(ixi_mask)"
   ]
  },
  {
   "cell_type": "code",
   "execution_count": null,
   "metadata": {},
   "outputs": [],
   "source": [
    "MSLUB_t2 = '../../../../../../Documents/MINI_DATA_FOR_PLAY/MINI_PROCESSED/v4correctedN4_non_iso_cut/MSLUB/t2/MSLUB1.nii.gz_t2.nii.gz'\n",
    "MSLUB_mask = '../../../../../../Documents/MINI_DATA_FOR_PLAY/MINI_PROCESSED/v4correctedN4_non_iso_cut/MSLUB/mask/MSLUB1.nii.gz_mask.nii.gz'\n",
    "MSLUB_seg = '../../../../../../Documents/MINI_DATA_FOR_PLAY/MINI_PROCESSED/v4correctedN4_non_iso_cut/MSLUB/seg/MSLUB1.nii.gz_seg.nii.gz'\n",
    "viz_interactive_3D_image(MSLUB_t2)\n",
    "viz_interactive_3D_image(MSLUB_mask)\n",
    "viz_interactive_3D_image(MSLUB_seg)\n",
    "\n",
    "MSLUB_t2 = '../../../../../../Documents/MINI_DATA_FOR_PLAY/MINI_PROCESSED/v4correctedN4_non_iso_cut/MSLUB/t2/MSLUB2.nii.gz_t2.nii.gz'\n",
    "MSLUB_mask = '../../../../../../Documents/MINI_DATA_FOR_PLAY/MINI_PROCESSED/v4correctedN4_non_iso_cut/MSLUB/mask/MSLUB2.nii.gz_mask.nii.gz'\n",
    "MSLUB_seg = '../../../../../../Documents/MINI_DATA_FOR_PLAY/MINI_PROCESSED/v4correctedN4_non_iso_cut/MSLUB/seg/MSLUB2.nii.gz_seg.nii.gz'\n",
    "viz_interactive_3D_image(MSLUB_t2)\n",
    "viz_interactive_3D_image(MSLUB_mask)\n",
    "viz_interactive_3D_image(MSLUB_seg)\n",
    "\n",
    "MSLUB_t2 = '../../../../../../Documents/MINI_DATA_FOR_PLAY/MINI_PROCESSED/v4correctedN4_non_iso_cut/MSLUB/t2/MSLUB3.nii.gz_t2.nii.gz'\n",
    "MSLUB_mask = '../../../../../../Documents/MINI_DATA_FOR_PLAY/MINI_PROCESSED/v4correctedN4_non_iso_cut/MSLUB/mask/MSLUB3.nii.gz_mask.nii.gz'\n",
    "MSLUB_seg = '../../../../../../Documents/MINI_DATA_FOR_PLAY/MINI_PROCESSED/v4correctedN4_non_iso_cut/MSLUB/seg/MSLUB3.nii.gz_seg.nii.gz'\n",
    "viz_interactive_3D_image(MSLUB_t2)\n",
    "viz_interactive_3D_image(MSLUB_mask)\n",
    "viz_interactive_3D_image(MSLUB_seg)\n",
    "\n"
   ]
  },
  {
   "cell_type": "code",
   "execution_count": null,
   "metadata": {},
   "outputs": [],
   "source": [
    "Brats21_t2 = '../../../../../../Documents/MINI_DATA_FOR_PLAY/MINI_PROCESSED/v4correctedN4_non_iso_cut/Brats21/t2/Brats1.nii.gz_t2.nii.gz'\n",
    "Brats21_mask = '../../../../../../Documents/MINI_DATA_FOR_PLAY/MINI_PROCESSED/v4correctedN4_non_iso_cut/Brats21/mask/Brats1.nii.gz_mask.nii.gz'\n",
    "Brats21_seg = '../../../../../../Documents/MINI_DATA_FOR_PLAY/MINI_PROCESSED/v4correctedN4_non_iso_cut/Brats21/seg/Brats1.nii.gz_seg.nii.gz'\n",
    "viz_interactive_3D_image(Brats21_t2)\n",
    "viz_interactive_3D_image(Brats21_mask)\n",
    "viz_interactive_3D_image(Brats21_seg)\n",
    "Brats21_t2 = '../../../../../../Documents/MINI_DATA_FOR_PLAY/MINI_PROCESSED/v4correctedN4_non_iso_cut/Brats21/t2/Brats2.nii.gz_t2.nii.gz'\n",
    "Brats21_mask = '../../../../../../Documents/MINI_DATA_FOR_PLAY/MINI_PROCESSED/v4correctedN4_non_iso_cut/Brats21/mask/Brats2.nii.gz_mask.nii.gz'\n",
    "Brats21_seg = '../../../../../../Documents/MINI_DATA_FOR_PLAY/MINI_PROCESSED/v4correctedN4_non_iso_cut/Brats21/seg/Brats2.nii.gz_seg.nii.gz'\n",
    "viz_interactive_3D_image(Brats21_t2)\n",
    "viz_interactive_3D_image(Brats21_mask)\n",
    "viz_interactive_3D_image(Brats21_seg)\n",
    "\n",
    "Brats21_t2 = '../../../../../../Documents/MINI_DATA_FOR_PLAY/MINI_PROCESSED/v4correctedN4_non_iso_cut/Brats21/t2/Brats3.nii.gz_t2.nii.gz'\n",
    "Brats21_mask = '../../../../../../Documents/MINI_DATA_FOR_PLAY/MINI_PROCESSED/v4correctedN4_non_iso_cut/Brats21/mask/Brats3.nii.gz_mask.nii.gz'\n",
    "Brats21_seg = '../../../../../../Documents/MINI_DATA_FOR_PLAY/MINI_PROCESSED/v4correctedN4_non_iso_cut/Brats21/seg/Brats3.nii.gz_seg.nii.gz'\n",
    "viz_interactive_3D_image(Brats21_t2)\n",
    "viz_interactive_3D_image(Brats21_mask)\n",
    "viz_interactive_3D_image(Brats21_seg)"
   ]
  },
  {
   "cell_type": "code",
   "execution_count": null,
   "metadata": {},
   "outputs": [],
   "source": []
  },
  {
   "cell_type": "code",
   "execution_count": null,
   "metadata": {},
   "outputs": [],
   "source": []
  },
  {
   "cell_type": "code",
   "execution_count": null,
   "metadata": {},
   "outputs": [],
   "source": []
  },
  {
   "cell_type": "code",
   "execution_count": null,
   "metadata": {},
   "outputs": [],
   "source": []
  },
  {
   "cell_type": "code",
   "execution_count": null,
   "metadata": {},
   "outputs": [],
   "source": []
  }
 ],
 "metadata": {
  "kernelspec": {
   "display_name": "Python 3",
   "language": "python",
   "name": "python3"
  },
  "language_info": {
   "codemirror_mode": {
    "name": "ipython",
    "version": 3
   },
   "file_extension": ".py",
   "mimetype": "text/x-python",
   "name": "python",
   "nbconvert_exporter": "python",
   "pygments_lexer": "ipython3",
   "version": "3.11.3"
  }
 },
 "nbformat": 4,
 "nbformat_minor": 2
}
