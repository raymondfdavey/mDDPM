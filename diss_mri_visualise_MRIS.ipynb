{
 "cells": [
  {
   "cell_type": "code",
   "execution_count": 1,
   "metadata": {},
   "outputs": [],
   "source": [
    "# Import all the necessary packages\n",
    "import numpy as np\n",
    "import nibabel as nib\n",
    "import itk\n",
    "import itkwidgets\n",
    "from ipywidgets import interact, interactive, IntSlider, ToggleButtons\n",
    "import matplotlib.pyplot as plt\n",
    "%matplotlib inline\n",
    "import seaborn as sns\n",
    "sns.set_style('darkgrid')\n",
    "import torch \n"
   ]
  },
  {
   "cell_type": "code",
   "execution_count": 2,
   "metadata": {},
   "outputs": [],
   "source": [
    "def viz_single_slice(image_path, layer):\n",
    "    image_obj = nib.load(image_path)\n",
    "    # Extract data as numpy ndarray\n",
    "    image_data = image_obj.get_fdata()\n",
    "    print('image_data pixels data type: ',  image_data.dtype)\n",
    "    print('image_data type: ',  type(image_data))\n",
    "    print('image_obj type: ',  type(image_obj))\n",
    "    height, width, depth = image_data.shape\n",
    "    print(f\"({height}, {width}, {depth})\")\n",
    "    print(f\"Plotting Layer {layer} of Image\")\n",
    "    \n",
    "    plt.figure(figsize=(3, 3))\n",
    "    plt.imshow(image_data[:, :, layer], cmap='gray')\n",
    "    plt.title(f\"{image_path}\\nLayer: {layer}\")\n",
    "    plt.axis('off')\n",
    "    plt.show()"
   ]
  },
  {
   "cell_type": "code",
   "execution_count": 3,
   "metadata": {},
   "outputs": [],
   "source": [
    "def explore_3dimage(image_data, layer, image_path):\n",
    "    plt.figure(figsize=(10, 5))\n",
    "    plt.imshow(image_data[:, :, layer], cmap='gray');\n",
    "    plt.title(f'{image_path[2:-7]}', fontsize=20)\n",
    "    plt.axis('off')\n",
    "    return layer\n",
    "\n",
    "def viz_interactive_3D_image(image_path):\n",
    "    image_obj = nib.load(image_path)\n",
    "    image_data = image_obj.get_fdata()\n",
    "    print('image_data pixels data type: ',  image_data.dtype)\n",
    "    print('image_data type: ',  type(image_data))\n",
    "    print('image_obj type: ',  type(image_obj))\n",
    "    height, width, depth = image_data.shape\n",
    "    print(f\"({height}, {width}, {depth})\")\n",
    "    interact(lambda layer: explore_3dimage(image_data, layer, image_path), layer=(0, image_data.shape[2] - 1))\n"
   ]
  },
  {
   "cell_type": "markdown",
   "metadata": {},
   "source": [
    "PROCESSED RESAMPLED"
   ]
  },
  {
   "cell_type": "code",
   "execution_count": 4,
   "metadata": {},
   "outputs": [
    {
     "name": "stdout",
     "output_type": "stream",
     "text": [
      "image_data pixels data type:  float64\n",
      "image_data type:  <class 'numpy.ndarray'>\n",
      "image_obj type:  <class 'nibabel.nifti1.Nifti1Image'>\n",
      "(138, 173, 138)\n"
     ]
    },
    {
     "data": {
      "application/vnd.jupyter.widget-view+json": {
       "model_id": "e5e01745d2a440f4a57da863dc688b50",
       "version_major": 2,
       "version_minor": 0
      },
      "text/plain": [
       "interactive(children=(IntSlider(value=68, description='layer', max=137), Output()), _dom_classes=('widget-inte…"
      ]
     },
     "metadata": {},
     "output_type": "display_data"
    },
    {
     "name": "stdout",
     "output_type": "stream",
     "text": [
      "image_data pixels data type:  float64\n",
      "image_data type:  <class 'numpy.ndarray'>\n",
      "image_obj type:  <class 'nibabel.nifti1.Nifti1Image'>\n",
      "(138, 173, 138)\n"
     ]
    },
    {
     "data": {
      "application/vnd.jupyter.widget-view+json": {
       "model_id": "8d6aaa71383e48498509711fecf1e7ea",
       "version_major": 2,
       "version_minor": 0
      },
      "text/plain": [
       "interactive(children=(IntSlider(value=68, description='layer', max=137), Output()), _dom_classes=('widget-inte…"
      ]
     },
     "metadata": {},
     "output_type": "display_data"
    },
    {
     "name": "stdout",
     "output_type": "stream",
     "text": [
      "image_data pixels data type:  float64\n",
      "image_data type:  <class 'numpy.ndarray'>\n",
      "image_obj type:  <class 'nibabel.nifti1.Nifti1Image'>\n",
      "(136, 175, 129)\n"
     ]
    },
    {
     "data": {
      "application/vnd.jupyter.widget-view+json": {
       "model_id": "438e3a125f584f159fff5f8bd38e21b9",
       "version_major": 2,
       "version_minor": 0
      },
      "text/plain": [
       "interactive(children=(IntSlider(value=64, description='layer', max=128), Output()), _dom_classes=('widget-inte…"
      ]
     },
     "metadata": {},
     "output_type": "display_data"
    },
    {
     "name": "stdout",
     "output_type": "stream",
     "text": [
      "image_data pixels data type:  float64\n",
      "image_data type:  <class 'numpy.ndarray'>\n",
      "image_obj type:  <class 'nibabel.nifti1.Nifti1Image'>\n",
      "(136, 175, 129)\n"
     ]
    },
    {
     "data": {
      "application/vnd.jupyter.widget-view+json": {
       "model_id": "f4ec581a3f5046f387e217a5b208de18",
       "version_major": 2,
       "version_minor": 0
      },
      "text/plain": [
       "interactive(children=(IntSlider(value=64, description='layer', max=128), Output()), _dom_classes=('widget-inte…"
      ]
     },
     "metadata": {},
     "output_type": "display_data"
    },
    {
     "name": "stdout",
     "output_type": "stream",
     "text": [
      "image_data pixels data type:  float64\n",
      "image_data type:  <class 'numpy.ndarray'>\n",
      "image_obj type:  <class 'nibabel.nifti1.Nifti1Image'>\n",
      "(134, 175, 134)\n"
     ]
    },
    {
     "data": {
      "application/vnd.jupyter.widget-view+json": {
       "model_id": "14225421927046f5bf946c97377981fa",
       "version_major": 2,
       "version_minor": 0
      },
      "text/plain": [
       "interactive(children=(IntSlider(value=66, description='layer', max=133), Output()), _dom_classes=('widget-inte…"
      ]
     },
     "metadata": {},
     "output_type": "display_data"
    },
    {
     "name": "stdout",
     "output_type": "stream",
     "text": [
      "image_data pixels data type:  float64\n",
      "image_data type:  <class 'numpy.ndarray'>\n",
      "image_obj type:  <class 'nibabel.nifti1.Nifti1Image'>\n",
      "(134, 175, 134)\n"
     ]
    },
    {
     "data": {
      "application/vnd.jupyter.widget-view+json": {
       "model_id": "b7dc5ab3cf294689897e05de58669969",
       "version_major": 2,
       "version_minor": 0
      },
      "text/plain": [
       "interactive(children=(IntSlider(value=66, description='layer', max=133), Output()), _dom_classes=('widget-inte…"
      ]
     },
     "metadata": {},
     "output_type": "display_data"
    }
   ],
   "source": [
    "ixi_t2 = '../../../../../../Documents/MINI_DATA_FOR_PLAY/MINI_PROCESSED/v4correctedN4_non_iso_cut/IXI/t2/IXI1.nii.gz_t2.nii.gz'\n",
    "ixi_mask = '../../../../../../Documents/MINI_DATA_FOR_PLAY/MINI_PROCESSED/v4correctedN4_non_iso_cut/IXI/mask/IXI1.nii.gz_mask.nii.gz'\n",
    "\n",
    "viz_interactive_3D_image(ixi_t2)\n",
    "viz_interactive_3D_image(ixi_mask)\n",
    "ixi_t2 = '../../../../../../Documents/MINI_DATA_FOR_PLAY/MINI_PROCESSED/v4correctedN4_non_iso_cut/IXI/t2/IXI2.nii.gz_t2.nii.gz'\n",
    "ixi_mask = '../../../../../../Documents/MINI_DATA_FOR_PLAY/MINI_PROCESSED/v4correctedN4_non_iso_cut/IXI/mask/IXI2.nii.gz_mask.nii.gz'\n",
    "\n",
    "viz_interactive_3D_image(ixi_t2)\n",
    "viz_interactive_3D_image(ixi_mask)\n",
    "\n",
    "ixi_t2 = '../../../../../../Documents/MINI_DATA_FOR_PLAY/MINI_PROCESSED/v4correctedN4_non_iso_cut/IXI/t2/IXI3.nii.gz_t2.nii.gz'\n",
    "ixi_mask = '../../../../../../Documents/MINI_DATA_FOR_PLAY/MINI_PROCESSED/v4correctedN4_non_iso_cut/IXI/mask/IXI3.nii.gz_mask.nii.gz'\n",
    "\n",
    "viz_interactive_3D_image(ixi_t2)\n",
    "viz_interactive_3D_image(ixi_mask)"
   ]
  },
  {
   "cell_type": "code",
   "execution_count": 6,
   "metadata": {},
   "outputs": [
    {
     "name": "stdout",
     "output_type": "stream",
     "text": [
      "image_data pixels data type:  float64\n",
      "image_data type:  <class 'numpy.ndarray'>\n",
      "image_obj type:  <class 'nibabel.nifti1.Nifti1Image'>\n",
      "(135, 175, 126)\n"
     ]
    },
    {
     "data": {
      "application/vnd.jupyter.widget-view+json": {
       "model_id": "070961a63a25457889eb57558583966b",
       "version_major": 2,
       "version_minor": 0
      },
      "text/plain": [
       "interactive(children=(IntSlider(value=62, description='layer', max=125), Output()), _dom_classes=('widget-inte…"
      ]
     },
     "metadata": {},
     "output_type": "display_data"
    },
    {
     "name": "stdout",
     "output_type": "stream",
     "text": [
      "image_data pixels data type:  float64\n",
      "image_data type:  <class 'numpy.ndarray'>\n",
      "image_obj type:  <class 'nibabel.nifti1.Nifti1Image'>\n",
      "(135, 175, 126)\n"
     ]
    },
    {
     "data": {
      "application/vnd.jupyter.widget-view+json": {
       "model_id": "5b66ab06033942969780c9642ffa1d25",
       "version_major": 2,
       "version_minor": 0
      },
      "text/plain": [
       "interactive(children=(IntSlider(value=62, description='layer', max=125), Output()), _dom_classes=('widget-inte…"
      ]
     },
     "metadata": {},
     "output_type": "display_data"
    },
    {
     "name": "stdout",
     "output_type": "stream",
     "text": [
      "image_data pixels data type:  float64\n",
      "image_data type:  <class 'numpy.ndarray'>\n",
      "image_obj type:  <class 'nibabel.nifti1.Nifti1Image'>\n",
      "(135, 175, 126)\n"
     ]
    },
    {
     "data": {
      "application/vnd.jupyter.widget-view+json": {
       "model_id": "08496e56234e48578afa3aea08f18e6e",
       "version_major": 2,
       "version_minor": 0
      },
      "text/plain": [
       "interactive(children=(IntSlider(value=62, description='layer', max=125), Output()), _dom_classes=('widget-inte…"
      ]
     },
     "metadata": {},
     "output_type": "display_data"
    },
    {
     "name": "stdout",
     "output_type": "stream",
     "text": [
      "image_data pixels data type:  float64\n",
      "image_data type:  <class 'numpy.ndarray'>\n",
      "image_obj type:  <class 'nibabel.nifti1.Nifti1Image'>\n",
      "(135, 174, 128)\n"
     ]
    },
    {
     "data": {
      "application/vnd.jupyter.widget-view+json": {
       "model_id": "22ebb7effd704af6b39791aa81ed2f70",
       "version_major": 2,
       "version_minor": 0
      },
      "text/plain": [
       "interactive(children=(IntSlider(value=63, description='layer', max=127), Output()), _dom_classes=('widget-inte…"
      ]
     },
     "metadata": {},
     "output_type": "display_data"
    },
    {
     "name": "stdout",
     "output_type": "stream",
     "text": [
      "image_data pixels data type:  float64\n",
      "image_data type:  <class 'numpy.ndarray'>\n",
      "image_obj type:  <class 'nibabel.nifti1.Nifti1Image'>\n",
      "(135, 174, 128)\n"
     ]
    },
    {
     "data": {
      "application/vnd.jupyter.widget-view+json": {
       "model_id": "c8bb8d041249414da567a369fa0fa956",
       "version_major": 2,
       "version_minor": 0
      },
      "text/plain": [
       "interactive(children=(IntSlider(value=63, description='layer', max=127), Output()), _dom_classes=('widget-inte…"
      ]
     },
     "metadata": {},
     "output_type": "display_data"
    },
    {
     "name": "stdout",
     "output_type": "stream",
     "text": [
      "image_data pixels data type:  float64\n",
      "image_data type:  <class 'numpy.ndarray'>\n",
      "image_obj type:  <class 'nibabel.nifti1.Nifti1Image'>\n",
      "(135, 174, 128)\n"
     ]
    },
    {
     "data": {
      "application/vnd.jupyter.widget-view+json": {
       "model_id": "f6f4b5cd0c2449ba89295cf6a312dbd8",
       "version_major": 2,
       "version_minor": 0
      },
      "text/plain": [
       "interactive(children=(IntSlider(value=63, description='layer', max=127), Output()), _dom_classes=('widget-inte…"
      ]
     },
     "metadata": {},
     "output_type": "display_data"
    },
    {
     "name": "stdout",
     "output_type": "stream",
     "text": [
      "image_data pixels data type:  float64\n",
      "image_data type:  <class 'numpy.ndarray'>\n",
      "image_obj type:  <class 'nibabel.nifti1.Nifti1Image'>\n",
      "(135, 175, 125)\n"
     ]
    },
    {
     "data": {
      "application/vnd.jupyter.widget-view+json": {
       "model_id": "d449b034adda472387e931b27ab1195c",
       "version_major": 2,
       "version_minor": 0
      },
      "text/plain": [
       "interactive(children=(IntSlider(value=62, description='layer', max=124), Output()), _dom_classes=('widget-inte…"
      ]
     },
     "metadata": {},
     "output_type": "display_data"
    },
    {
     "name": "stdout",
     "output_type": "stream",
     "text": [
      "image_data pixels data type:  float64\n",
      "image_data type:  <class 'numpy.ndarray'>\n",
      "image_obj type:  <class 'nibabel.nifti1.Nifti1Image'>\n",
      "(135, 175, 125)\n"
     ]
    },
    {
     "data": {
      "application/vnd.jupyter.widget-view+json": {
       "model_id": "0111f891076c4cf39cf219cd01dd9b29",
       "version_major": 2,
       "version_minor": 0
      },
      "text/plain": [
       "interactive(children=(IntSlider(value=62, description='layer', max=124), Output()), _dom_classes=('widget-inte…"
      ]
     },
     "metadata": {},
     "output_type": "display_data"
    },
    {
     "name": "stdout",
     "output_type": "stream",
     "text": [
      "image_data pixels data type:  float64\n",
      "image_data type:  <class 'numpy.ndarray'>\n",
      "image_obj type:  <class 'nibabel.nifti1.Nifti1Image'>\n",
      "(135, 175, 125)\n"
     ]
    },
    {
     "data": {
      "application/vnd.jupyter.widget-view+json": {
       "model_id": "79e1eabbedf44c53b84540244541798d",
       "version_major": 2,
       "version_minor": 0
      },
      "text/plain": [
       "interactive(children=(IntSlider(value=62, description='layer', max=124), Output()), _dom_classes=('widget-inte…"
      ]
     },
     "metadata": {},
     "output_type": "display_data"
    }
   ],
   "source": [
    "MSLUB_t2 = '../../../../../../Documents/MINI_DATA_FOR_PLAY/MINI_PROCESSED/v4correctedN4_non_iso_cut/MSLUB/t2/MSLUB1.nii.gz_t2.nii.gz'\n",
    "MSLUB_mask = '../../../../../../Documents/MINI_DATA_FOR_PLAY/MINI_PROCESSED/v4correctedN4_non_iso_cut/MSLUB/mask/MSLUB1.nii.gz_mask.nii.gz'\n",
    "MSLUB_seg = '../../../../../../Documents/MINI_DATA_FOR_PLAY/MINI_PROCESSED/v4correctedN4_non_iso_cut/MSLUB/seg/MSLUB1.nii.gz_seg.nii.gz'\n",
    "viz_interactive_3D_image(MSLUB_t2)\n",
    "viz_interactive_3D_image(MSLUB_mask)\n",
    "viz_interactive_3D_image(MSLUB_seg)\n",
    "\n",
    "MSLUB_t2 = '../../../../../../Documents/MINI_DATA_FOR_PLAY/MINI_PROCESSED/v4correctedN4_non_iso_cut/MSLUB/t2/MSLUB2.nii.gz_t2.nii.gz'\n",
    "MSLUB_mask = '../../../../../../Documents/MINI_DATA_FOR_PLAY/MINI_PROCESSED/v4correctedN4_non_iso_cut/MSLUB/mask/MSLUB2.nii.gz_mask.nii.gz'\n",
    "MSLUB_seg = '../../../../../../Documents/MINI_DATA_FOR_PLAY/MINI_PROCESSED/v4correctedN4_non_iso_cut/MSLUB/seg/MSLUB2.nii.gz_seg.nii.gz'\n",
    "viz_interactive_3D_image(MSLUB_t2)\n",
    "viz_interactive_3D_image(MSLUB_mask)\n",
    "viz_interactive_3D_image(MSLUB_seg)\n",
    "\n",
    "MSLUB_t2 = '../../../../../../Documents/MINI_DATA_FOR_PLAY/MINI_PROCESSED/v4correctedN4_non_iso_cut/MSLUB/t2/MSLUB3.nii.gz_t2.nii.gz'\n",
    "MSLUB_mask = '../../../../../../Documents/MINI_DATA_FOR_PLAY/MINI_PROCESSED/v4correctedN4_non_iso_cut/MSLUB/mask/MSLUB3.nii.gz_mask.nii.gz'\n",
    "MSLUB_seg = '../../../../../../Documents/MINI_DATA_FOR_PLAY/MINI_PROCESSED/v4correctedN4_non_iso_cut/MSLUB/seg/MSLUB3.nii.gz_seg.nii.gz'\n",
    "viz_interactive_3D_image(MSLUB_t2)\n",
    "viz_interactive_3D_image(MSLUB_mask)\n",
    "viz_interactive_3D_image(MSLUB_seg)\n",
    "\n"
   ]
  },
  {
   "cell_type": "code",
   "execution_count": 7,
   "metadata": {},
   "outputs": [
    {
     "name": "stdout",
     "output_type": "stream",
     "text": [
      "image_data pixels data type:  float64\n",
      "image_data type:  <class 'numpy.ndarray'>\n",
      "image_obj type:  <class 'nibabel.nifti1.Nifti1Image'>\n",
      "(135, 177, 139)\n"
     ]
    },
    {
     "data": {
      "application/vnd.jupyter.widget-view+json": {
       "model_id": "1ec7480fe86540229bf7bffbf2af6ea7",
       "version_major": 2,
       "version_minor": 0
      },
      "text/plain": [
       "interactive(children=(IntSlider(value=69, description='layer', max=138), Output()), _dom_classes=('widget-inte…"
      ]
     },
     "metadata": {},
     "output_type": "display_data"
    },
    {
     "name": "stdout",
     "output_type": "stream",
     "text": [
      "image_data pixels data type:  float64\n",
      "image_data type:  <class 'numpy.ndarray'>\n",
      "image_obj type:  <class 'nibabel.nifti1.Nifti1Image'>\n",
      "(135, 177, 139)\n"
     ]
    },
    {
     "data": {
      "application/vnd.jupyter.widget-view+json": {
       "model_id": "6da02b0e138344239f7d521d5b90aee8",
       "version_major": 2,
       "version_minor": 0
      },
      "text/plain": [
       "interactive(children=(IntSlider(value=69, description='layer', max=138), Output()), _dom_classes=('widget-inte…"
      ]
     },
     "metadata": {},
     "output_type": "display_data"
    },
    {
     "name": "stdout",
     "output_type": "stream",
     "text": [
      "image_data pixels data type:  float64\n",
      "image_data type:  <class 'numpy.ndarray'>\n",
      "image_obj type:  <class 'nibabel.nifti1.Nifti1Image'>\n",
      "(135, 177, 139)\n"
     ]
    },
    {
     "data": {
      "application/vnd.jupyter.widget-view+json": {
       "model_id": "7e05cce2ec654c65a09c5dfab537b3ee",
       "version_major": 2,
       "version_minor": 0
      },
      "text/plain": [
       "interactive(children=(IntSlider(value=69, description='layer', max=138), Output()), _dom_classes=('widget-inte…"
      ]
     },
     "metadata": {},
     "output_type": "display_data"
    },
    {
     "name": "stdout",
     "output_type": "stream",
     "text": [
      "image_data pixels data type:  float64\n",
      "image_data type:  <class 'numpy.ndarray'>\n",
      "image_obj type:  <class 'nibabel.nifti1.Nifti1Image'>\n",
      "(137, 175, 139)\n"
     ]
    },
    {
     "data": {
      "application/vnd.jupyter.widget-view+json": {
       "model_id": "34aeed76ffe1447e8c9276bbb4956e9d",
       "version_major": 2,
       "version_minor": 0
      },
      "text/plain": [
       "interactive(children=(IntSlider(value=69, description='layer', max=138), Output()), _dom_classes=('widget-inte…"
      ]
     },
     "metadata": {},
     "output_type": "display_data"
    },
    {
     "name": "stdout",
     "output_type": "stream",
     "text": [
      "image_data pixels data type:  float64\n",
      "image_data type:  <class 'numpy.ndarray'>\n",
      "image_obj type:  <class 'nibabel.nifti1.Nifti1Image'>\n",
      "(137, 175, 139)\n"
     ]
    },
    {
     "data": {
      "application/vnd.jupyter.widget-view+json": {
       "model_id": "0e6b09ce4cfa40bcb2f95b2634b0d085",
       "version_major": 2,
       "version_minor": 0
      },
      "text/plain": [
       "interactive(children=(IntSlider(value=69, description='layer', max=138), Output()), _dom_classes=('widget-inte…"
      ]
     },
     "metadata": {},
     "output_type": "display_data"
    },
    {
     "name": "stdout",
     "output_type": "stream",
     "text": [
      "image_data pixels data type:  float64\n",
      "image_data type:  <class 'numpy.ndarray'>\n",
      "image_obj type:  <class 'nibabel.nifti1.Nifti1Image'>\n",
      "(137, 175, 139)\n"
     ]
    },
    {
     "data": {
      "application/vnd.jupyter.widget-view+json": {
       "model_id": "ea2215cc53854207a302dfb0b5940497",
       "version_major": 2,
       "version_minor": 0
      },
      "text/plain": [
       "interactive(children=(IntSlider(value=69, description='layer', max=138), Output()), _dom_classes=('widget-inte…"
      ]
     },
     "metadata": {},
     "output_type": "display_data"
    },
    {
     "name": "stdout",
     "output_type": "stream",
     "text": [
      "image_data pixels data type:  float64\n",
      "image_data type:  <class 'numpy.ndarray'>\n",
      "image_obj type:  <class 'nibabel.nifti1.Nifti1Image'>\n",
      "(131, 171, 136)\n"
     ]
    },
    {
     "data": {
      "application/vnd.jupyter.widget-view+json": {
       "model_id": "c6d5899616404f8381c137e0a5d480b3",
       "version_major": 2,
       "version_minor": 0
      },
      "text/plain": [
       "interactive(children=(IntSlider(value=67, description='layer', max=135), Output()), _dom_classes=('widget-inte…"
      ]
     },
     "metadata": {},
     "output_type": "display_data"
    },
    {
     "name": "stdout",
     "output_type": "stream",
     "text": [
      "image_data pixels data type:  float64\n",
      "image_data type:  <class 'numpy.ndarray'>\n",
      "image_obj type:  <class 'nibabel.nifti1.Nifti1Image'>\n",
      "(131, 171, 136)\n"
     ]
    },
    {
     "data": {
      "application/vnd.jupyter.widget-view+json": {
       "model_id": "8dd63793aee24d04bf6ac9447c79ab0c",
       "version_major": 2,
       "version_minor": 0
      },
      "text/plain": [
       "interactive(children=(IntSlider(value=67, description='layer', max=135), Output()), _dom_classes=('widget-inte…"
      ]
     },
     "metadata": {},
     "output_type": "display_data"
    },
    {
     "name": "stdout",
     "output_type": "stream",
     "text": [
      "image_data pixels data type:  float64\n",
      "image_data type:  <class 'numpy.ndarray'>\n",
      "image_obj type:  <class 'nibabel.nifti1.Nifti1Image'>\n",
      "(131, 171, 136)\n"
     ]
    },
    {
     "data": {
      "application/vnd.jupyter.widget-view+json": {
       "model_id": "331167801c9a498ab6d2ab4d2a5f9f93",
       "version_major": 2,
       "version_minor": 0
      },
      "text/plain": [
       "interactive(children=(IntSlider(value=67, description='layer', max=135), Output()), _dom_classes=('widget-inte…"
      ]
     },
     "metadata": {},
     "output_type": "display_data"
    }
   ],
   "source": [
    "Brats21_t2 = '../../../../../../Documents/MINI_DATA_FOR_PLAY/MINI_PROCESSED/v4correctedN4_non_iso_cut/Brats21/t2/Brats1.nii.gz_t2.nii.gz'\n",
    "Brats21_mask = '../../../../../../Documents/MINI_DATA_FOR_PLAY/MINI_PROCESSED/v4correctedN4_non_iso_cut/Brats21/mask/Brats1.nii.gz_mask.nii.gz'\n",
    "Brats21_seg = '../../../../../../Documents/MINI_DATA_FOR_PLAY/MINI_PROCESSED/v4correctedN4_non_iso_cut/Brats21/seg/Brats1.nii.gz_seg.nii.gz'\n",
    "viz_interactive_3D_image(Brats21_t2)\n",
    "viz_interactive_3D_image(Brats21_mask)\n",
    "viz_interactive_3D_image(Brats21_seg)\n",
    "Brats21_t2 = '../../../../../../Documents/MINI_DATA_FOR_PLAY/MINI_PROCESSED/v4correctedN4_non_iso_cut/Brats21/t2/Brats2.nii.gz_t2.nii.gz'\n",
    "Brats21_mask = '../../../../../../Documents/MINI_DATA_FOR_PLAY/MINI_PROCESSED/v4correctedN4_non_iso_cut/Brats21/mask/Brats2.nii.gz_mask.nii.gz'\n",
    "Brats21_seg = '../../../../../../Documents/MINI_DATA_FOR_PLAY/MINI_PROCESSED/v4correctedN4_non_iso_cut/Brats21/seg/Brats2.nii.gz_seg.nii.gz'\n",
    "viz_interactive_3D_image(Brats21_t2)\n",
    "viz_interactive_3D_image(Brats21_mask)\n",
    "viz_interactive_3D_image(Brats21_seg)\n",
    "\n",
    "Brats21_t2 = '../../../../../../Documents/MINI_DATA_FOR_PLAY/MINI_PROCESSED/v4correctedN4_non_iso_cut/Brats21/t2/Brats3.nii.gz_t2.nii.gz'\n",
    "Brats21_mask = '../../../../../../Documents/MINI_DATA_FOR_PLAY/MINI_PROCESSED/v4correctedN4_non_iso_cut/Brats21/mask/Brats3.nii.gz_mask.nii.gz'\n",
    "Brats21_seg = '../../../../../../Documents/MINI_DATA_FOR_PLAY/MINI_PROCESSED/v4correctedN4_non_iso_cut/Brats21/seg/Brats3.nii.gz_seg.nii.gz'\n",
    "viz_interactive_3D_image(Brats21_t2)\n",
    "viz_interactive_3D_image(Brats21_mask)\n",
    "viz_interactive_3D_image(Brats21_seg)"
   ]
  },
  {
   "cell_type": "code",
   "execution_count": null,
   "metadata": {},
   "outputs": [],
   "source": []
  }
 ],
 "metadata": {
  "kernelspec": {
   "display_name": "Python 3",
   "language": "python",
   "name": "python3"
  },
  "language_info": {
   "codemirror_mode": {
    "name": "ipython",
    "version": 3
   },
   "file_extension": ".py",
   "mimetype": "text/x-python",
   "name": "python",
   "nbconvert_exporter": "python",
   "pygments_lexer": "ipython3",
   "version": "3.11.3"
  }
 },
 "nbformat": 4,
 "nbformat_minor": 2
}
